{
  "metadata": {
    "kernelspec": {
      "name": "python",
      "display_name": "Python (Pyodide)",
      "language": "python"
    },
    "language_info": {
      "codemirror_mode": {
        "name": "python",
        "version": 3
      },
      "file_extension": ".py",
      "mimetype": "text/x-python",
      "name": "python",
      "nbconvert_exporter": "python",
      "pygments_lexer": "ipython3",
      "version": "3.8"
    }
  },
  "nbformat_minor": 4,
  "nbformat": 4,
  "cells": [
    {
      "cell_type": "markdown",
      "source": "Q1. What is a database? Differentiate between SQL and NoSQL databases.",
      "metadata": {}
    },
    {
      "cell_type": "markdown",
      "source": "Answer:-A database is an organized collection of data that can be easily accessed, managed, and updated. Databases are used to store information in a structured format, allowing for efficient retrieval, insertion, updating, and deletion of data.\n\nThe differentiate betwwen SQL and NoSQL databases are as follows:-\nSQL Databases:\n1.Relational databases that store data in tables with predefined schemas.\n2.Fixed schema, where the structure of data is defined before storing.\n3.Uses Structured Query Language (SQL) for defining and manipulating data.\n4.Supports ACID (Atomicity, Consistency, Isolation, Durability) properties, ensuring reliable transactions.\n5.Generally vertically scalable, meaning you can increase the capacity of a single server.\nExamples: MySQL, PostgreSQL, Oracle Database, Microsoft SQL Server.\n\nNoSQL Databases:\n1.Non-relational databases that store data in various formats such as key-value pairs, documents, columns, or graphs.\n2.Dynamic schema, allowing for flexible and unstructured data storage.\n3.Does not use SQL. Query methods vary based on the type of NoSQL database.\n4.Some NoSQL databases provide limited support for ACID transactions, typically supporting BASE (Basically Available, Soft state, Eventual consistency).\n5.Generally horizontally scalable, meaning you can add more servers to distribute the load.\nExamples: MongoDB, Cassandra, Redis, Couchbase.",
      "metadata": {}
    },
    {
      "cell_type": "markdown",
      "source": "Q2. What is DDL? Explain why CREATE, DROP, ALTER, and TRUNCATE are used with an example.",
      "metadata": {}
    },
    {
      "cell_type": "markdown",
      "source": "DDL stands for Data Definition Language. It is a subset of SQL (Structured Query Language) used to define and manage the structure of database objects such as tables, indexes, and views. DDL commands are used to create, modify, and delete these structures without affecting the data within them.\n\nDDL Command and their uses are as follows:-\n1.CREATE:-Creates a new database object such as a table, index, or view.\nEXAMPLE:-CREATE TABLE Employees (\n    EmployeeID INT PRIMARY KEY,\n    FirstName VARCHAR(50),\n    LastName VARCHAR(50),\n    HireDate DATE\n);\n\n2.DROP:-Deletes an existing database object like a table, index, or view.\nEXAMPLE:-DROP TABLE Employees;\n\n3.ALTER:-Modifies the structure of an existing database object, such as adding or dropping columns.\nEXAMPLE:-ALTER TABLE Employees\nADD Email VARCHAR(100);\n\nALTER TABLE Employees\nDROP COLUMN HireDate;\n\n4.TRUNCATE:-Removes all rows from a table without deleting the table itself. It resets any auto-incremented counters but does not log individual row deletions.\nExample:-TRUNCATE TABLE Employees;\n",
      "metadata": {}
    },
    {
      "cell_type": "markdown",
      "source": "Q3. What is DML? Explain INSERT, UPDATE, and DELETE with an example.",
      "metadata": {}
    },
    {
      "cell_type": "markdown",
      "source": "Answer:-DML stands for Data Manipulation Language. It is a subset of SQL (Structured Query Language) used to manipulate data within database tables. DML commands are used for inserting, updating, and deleting data in a database.\n\nDML Commands and Their Uses are as follows:-\n1.INSERT:-Adds new rows of data to a table.\nExample:-INSERT INTO Employees (EmployeeID, FirstName, LastName, HireDate)\nVALUES (1, 'John', 'Doe', '2023-01-15');\n\n2.UPDATE:-Modifies existing data within a table.\nExample:-UPDATE Employees\nSET LastName = 'Smith'\nWHERE EmployeeID = 1;\n\n3.DELETE:-Removes existing rows of data from a table.\nExample:-DELETE FROM Employees\nWHERE EmployeeID = 1;\n",
      "metadata": {}
    },
    {
      "cell_type": "markdown",
      "source": "Q4. What is DQL? Explain SELECT with an example.",
      "metadata": {}
    },
    {
      "cell_type": "markdown",
      "source": "Answer:-DQL stands for Data Query Language. It is a subset of SQL (Structured Query Language) that focuses on querying and retrieving data from a database. The primary command in DQL is the SELECT statement, used to query the database and retrieve the desired data.\n\nSELECT Statement:-The SELECT statement is the most commonly used DQL command. It retrieves data from one or more tables in a database.\nSyntax:-SELECT column1, column2, ...\nFROM table_name\nWHERE condition;\n\nExample:-Consider a table named Employees with columns: EmployeeID, FirstName, LastName, and HireDate.\nExample 1: Selecting All Columns\nSELECT * FROM Employees;\nThe above query retrieves all columns from the Employees table.\n\nExample 2: Selecting Specific Columns\nSELECT FirstName, LastName FROM Employees;\nThe above query retrieves only the FirstName and LastName columns from the Employees table.\n\nExample 3: Using the WHERE Clause\nSELECT * FROM Employees\nWHERE HireDate > '2023-01-01';\nThe above query retrieves all columns from the Employees table where the HireDate is after January 1, 2023.\n\nExplanation:\nSELECT *: Retrieves all columns from the specified table.\nSELECT column1, column2, ...: Retrieves specified columns from the table.\nFROM table_name: Specifies the table from which to retrieve the data.\nWHERE condition: Filters the result set to include only rows that meet the specified condition.\n\nThe SELECT statement is fundamental for querying databases, allowing users to fetch and manipulate data efficiently.",
      "metadata": {}
    },
    {
      "cell_type": "markdown",
      "source": "Q5. Explain Primary Key and Foreign Key.",
      "metadata": {}
    },
    {
      "cell_type": "markdown",
      "source": "Answer:-1.Primary Key:-\nA primary key is a column or a set of columns in a table that uniquely identifies each row in that table. It must contain unique values and cannot contain NULL values.\nPurpose: Ensures that each record in the table is unique and provides a way to identify and retrieve individual records.\n\nExample:-\nCREATE TABLE Employees (\n    EmployeeID INT PRIMARY KEY,\n    FirstName VARCHAR(50),\n    LastName VARCHAR(50),\n    HireDate DATE\n);\nIn this example EmployeeID is the primary key for the Employees table.\n\n2.Foreign Key:-\nA foreign key is a column or a set of columns in one table that refers to the primary key in another table. It establishes a relationship between the two tables.\nPurpose: Enforces referential integrity between the tables, ensuring that the value in the foreign key column corresponds to a valid value in the primary key column of the related table.\n\nExample:-\nCREATE TABLE Departments (\n    DepartmentID INT PRIMARY KEY,\n    DepartmentName VARCHAR(50)\n);\n\nCREATE TABLE Employees (\n    EmployeeID INT PRIMARY KEY,\n    FirstName VARCHAR(50),\n    LastName VARCHAR(50),\n    HireDate DATE,\n    DepartmentID INT,\n    FOREIGN KEY (DepartmentID) REFERENCES Departments(DepartmentID)\n);\nIn this example DepartmentID in the Employees table is a foreign key that references the DepartmentID primary key in the Departments table. This relationship ensures that each employee belongs to a valid department.",
      "metadata": {}
    },
    {
      "cell_type": "markdown",
      "source": "Q6. Write a python code to connect MySQL to python. Explain the cursor() and execute() method.",
      "metadata": {}
    },
    {
      "cell_type": "markdown",
      "source": "Answer:-To connect MySQL to Python, you can use the mysql-connector-python library. Here’s a simple example of how to establish a connection and use the cursor() and execute() methods:\nStep-by-Step Code:\nStep 1.Install the MySQL Connector: Before using MySQL in Python, install the mysql-connector-python package using pip:\npip install mysql-connector-python\n2.Connect to MySQL Database: Here’s the code to connect to the database, create a cursor, and execute a query:\nimport mysql.connector\n\n# Establishing the connection\nconn = mysql.connector.connect(\n    host=\"localhost\",\n    user=\"your_username\",\n    password=\"your_password\",\n    database=\"your_database\"\n)\n\n# Creating a cursor object\ncursor = conn.cursor()\n\n# Executing a SQL query\ncursor.execute(\"SELECT * FROM Employees\")\n\n# Fetching all rows from the last executed statement\nrows = cursor.fetchall()\n\n# Printing the results\nfor row in rows:\n    print(row)\n\n# Closing the cursor and connection\ncursor.close()\nconn.close()\n\n\nExplanation of cursor() and execute():-\n1.cursor() Method:-\nThe cursor() method creates a cursor object which is used to interact with the database. The cursor is responsible for executing SQL queries and fetching data from the database.\n\ncursor = conn.cursor()\nAbove command initializes a cursor object that can be used to execute SQL commands.\n\n2.execute() Method:\nThe execute() method executes a specified SQL query using the cursor. It is used to perform various operations such as selecting, inserting, updating, or deleting data.\n\ncursor.execute(\"SELECT * FROM Employees\")\nAbove command executes the SQL query provided as a string. The results of the query can then be fetched using methods like fetchall(), fetchone(), etc.",
      "metadata": {}
    },
    {
      "cell_type": "markdown",
      "source": "Q7. Give the order of execution of SQL clauses in an SQL query.",
      "metadata": {}
    },
    {
      "cell_type": "markdown",
      "source": "Answer:-When executing an SQL query, the database engine processes the clauses in a specific order to ensure the correct result set is produced. Here is the typical order of execution for SQL clauses:-\n1.FROM – Determines the tables involved in the query.\n2.JOIN – Joins tables if there are any join conditions.\n3.WHERE – Filters rows based on specified conditions.\n4.GROUP BY – Groups rows sharing a value in specified columns.\n5.HAVING – Filters groups created by GROUP BY based on aggregate conditions.\n6.SELECT – Selects the columns to include in the final result set.\n7.DISTINCT – Removes duplicate rows from the result set.\n8.ORDER BY – Sorts the result set in ascending or descending order.\n9.LIMIT – Limits the number of rows returned in the result set.\n\nExample of Query with Execution Order:-\nSELECT department, COUNT(*) as employee_count\nFROM employees\nWHERE salary > 50000\nGROUP BY department\nHAVING employee_count > 5\nORDER BY employee_count DESC\nLIMIT 10;\n\nHere’s the order of execution:\n\nFROM employees\nWHERE salary > 50000\nGROUP BY department\nHAVING employee_count > 5\nSELECT department, COUNT(*) as employee_count\nORDER BY employee_count DESC\nLIMIT 10\n\nSequence allows SQL to filter data early on (in WHERE), group data before applying conditions on the groups (in HAVING), and finally display the specified columns, sorted and limited as requested.",
      "metadata": {}
    }
  ]
}